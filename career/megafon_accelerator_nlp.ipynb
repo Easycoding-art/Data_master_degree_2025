{
  "nbformat": 4,
  "nbformat_minor": 0,
  "metadata": {
    "colab": {
      "provenance": []
    },
    "kernelspec": {
      "name": "python3",
      "display_name": "Python 3"
    },
    "language_info": {
      "name": "python"
    }
  },
  "cells": [
    {
      "cell_type": "markdown",
      "source": [
        "# Задача 1. Топ слов.\n",
        "Напишите функцию, которая принимает строку и возвращает 5 самых частых слов в тексте.  \n",
        "Необходимо:  \n",
        "- Игнорировать регистр.  \n",
        "- Игнорировать знаки пунктуации."
      ],
      "metadata": {
        "id": "CIKcwVpbaWVx"
      }
    },
    {
      "cell_type": "code",
      "execution_count": null,
      "metadata": {
        "id": "EzMYA8hBXD7m"
      },
      "outputs": [],
      "source": [
        "import re\n",
        "from collections import  Counter\n",
        "\n",
        "def top_words(text, n=5):\n",
        "    for val in '!.,?:;':\n",
        "      text = text.lower().replace(val, '')\n",
        "    a = text.split()\n",
        "    c = Counter(a)\n",
        "    return c.most_common(n)\n",
        "\n",
        "\n",
        "text = \"Hello, hello! NLP is fun. Fun, fun, fun.\"\n",
        "assert top_words(text) == [('fun', 4), ('hello', 2), ('nlp', 1), ('is', 1)]"
      ]
    },
    {
      "cell_type": "markdown",
      "source": [
        "# Задача 2. Биграммы\n",
        "Реализуйте функцию, которая принимает строку и возвращает словарь: биграмма → частота.  \n",
        "Биграммы формируются из последовательности слов (игнорируя пунктуацию)."
      ],
      "metadata": {
        "id": "gegDhpsNaYDW"
      }
    },
    {
      "cell_type": "code",
      "source": [
        "def bigrams(text):\n",
        "  text = text.lower()\n",
        "  for val in '!.,?:;':\n",
        "    text = text.replace(val, '')\n",
        "  a = text.split()\n",
        "  arr = [(a[i], a[i+1]) for i in range(len(a)-1)]\n",
        "  c = Counter(arr)\n",
        "  return dict(c.most_common())\n",
        "\n",
        "\n",
        "text = \"I love NLP. I love coding in Python.\"\n",
        "print(bigrams(text))\n",
        "assert bigrams(text) == {('i', 'love'): 2, ('love', 'nlp'): 1, ('nlp', 'i'): 1, ('love', 'coding'): 1, ('coding', 'in'): 1, ('in', 'python'): 1}"
      ],
      "metadata": {
        "id": "lhwT-KJUYBFd",
        "outputId": "49ef9f8b-7af2-45b1-8307-cc211ce1295e",
        "colab": {
          "base_uri": "https://localhost:8080/"
        }
      },
      "execution_count": null,
      "outputs": [
        {
          "output_type": "stream",
          "name": "stdout",
          "text": [
            "{('i', 'love'): 2, ('love', 'nlp'): 1, ('nlp', 'i'): 1, ('love', 'coding'): 1, ('coding', 'in'): 1, ('in', 'python'): 1}\n"
          ]
        }
      ]
    }
  ]
}